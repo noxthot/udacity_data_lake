{
 "cells": [
  {
   "cell_type": "code",
   "execution_count": null,
   "metadata": {
    "editable": true
   },
   "outputs": [],
   "source": [
    "from pyspark.sql import SparkSession\n",
    "import os\n",
    "import configparser"
   ]
  },
  {
   "cell_type": "code",
   "execution_count": null,
   "metadata": {
    "editable": true
   },
   "outputs": [],
   "source": [
    "config = configparser.ConfigParser()\n",
    "config.read('dl.cfg')\n",
    "\n",
    "os.environ[\"AWS_ACCESS_KEY_ID\"] = config.get('AWS', 'AWS_ACCESS_KEY_ID')\n",
    "os.environ[\"AWS_SECRET_ACCESS_KEY\"] = config.get('AWS', 'AWS_SECRET_ACCESS_KEY')\n",
    "\n",
    "spark = SparkSession \\\n",
    "    .builder \\\n",
    "    .config(\"spark.jars.packages\", \"org.apache.hadoop:hadoop-aws:2.7.0\") \\\n",
    "    .getOrCreate()"
   ]
  },
  {
   "cell_type": "code",
   "execution_count": null,
   "metadata": {
    "editable": true
   },
   "outputs": [],
   "source": [
    "dataPath = \"s3a://fawkesbucketdemoo\"\n",
    "\n",
    "song_path = dataPath + '/songs/year=*/artist_id=*/*.parquet'\n",
    "song_path_opt = dataPath + '/songs/'\n",
    "artist_path = dataPath + '/artists/*.parquet'\n",
    "songplay_path = dataPath + '/songplays/year=*/month=*/*.parquet'\n",
    "songplay_path_opt = dataPath + '/songplays/'\n",
    "time_path = dataPath + '/times/year=*/month=*/*.parquet'\n",
    "time_path_opt = dataPath + '/times/'\n",
    "user_path = dataPath + '/users/*.parquet'"
   ]
  },
  {
   "cell_type": "code",
   "execution_count": null,
   "metadata": {
    "editable": true
   },
   "outputs": [],
   "source": [
    "song_data = spark.read.option(\"basePath\", song_path_opt).parquet(song_path)\n",
    "song_data.printSchema()"
   ]
  },
  {
   "cell_type": "code",
   "execution_count": null,
   "metadata": {
    "editable": true
   },
   "outputs": [],
   "source": [
    "artist_data = spark.read.parquet(artist_path)\n",
    "artist_data.printSchema()"
   ]
  },
  {
   "cell_type": "code",
   "execution_count": null,
   "metadata": {
    "editable": true
   },
   "outputs": [],
   "source": [
    "songplay_data = spark.read.option(\"basePath\", songplay_path_opt).parquet(songplay_path)\n",
    "songplay_data.printSchema()"
   ]
  },
  {
   "cell_type": "code",
   "execution_count": null,
   "metadata": {
    "editable": true
   },
   "outputs": [],
   "source": [
    "time_data = spark.read.option(\"basePath\", time_path_opt).parquet(time_path)\n",
    "time_data.printSchema()"
   ]
  },
  {
   "cell_type": "code",
   "execution_count": null,
   "metadata": {
    "editable": true
   },
   "outputs": [],
   "source": [
    "user_data = spark.read.parquet(user_path)\n",
    "user_data.printSchema()"
   ]
  },
  {
   "cell_type": "code",
   "execution_count": null,
   "metadata": {
    "editable": true
   },
   "outputs": [],
   "source": []
  },
  {
   "cell_type": "code",
   "execution_count": null,
   "metadata": {
    "editable": true
   },
   "outputs": [],
   "source": []
  }
 ],
 "metadata": {
  "kernelspec": {
   "display_name": "Python 3",
   "language": "python",
   "name": "python3"
  },
  "language_info": {
   "codemirror_mode": {
    "name": "ipython",
    "version": 3
   },
   "file_extension": ".py",
   "mimetype": "text/x-python",
   "name": "python",
   "nbconvert_exporter": "python",
   "pygments_lexer": "ipython3",
   "version": "3.6.3"
  }
 },
 "nbformat": 4,
 "nbformat_minor": 4
}
